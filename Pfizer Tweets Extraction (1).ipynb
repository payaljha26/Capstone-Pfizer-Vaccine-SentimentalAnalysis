{
 "cells": [
  {
   "cell_type": "code",
   "execution_count": 25,
   "metadata": {},
   "outputs": [],
   "source": [
    "import os\n",
    "import tweepy as tw\n",
    "import pandas as pd\n",
    "from tqdm import tqdm, notebook"
   ]
  },
  {
   "cell_type": "code",
   "execution_count": 12,
   "metadata": {},
   "outputs": [],
   "source": [
    "consumer_key= ''\n",
    "consumer_secret= ''\n",
    "access_token= ''\n",
    "access_token_secret= ''"
   ]
  },
  {
   "cell_type": "code",
   "execution_count": 13,
   "metadata": {},
   "outputs": [],
   "source": [
    "auth = tw.OAuthHandler(consumer_key, consumer_secret)\n",
    "auth.set_access_token(access_token, access_token_secret)\n",
    "api = tw.API(auth, wait_on_rate_limit=True)"
   ]
  },
  {
   "cell_type": "code",
   "execution_count": 14,
   "metadata": {},
   "outputs": [],
   "source": [
    "# Define the search term and the date_since date as variables\n",
    "search_words = \"#Pfizervaccine\"\n",
    "date_since = \"2021-03-01\""
   ]
  },
  {
   "cell_type": "code",
   "execution_count": 21,
   "metadata": {},
   "outputs": [
    {
     "data": {
      "text/plain": [
       "<tweepy.cursor.ItemIterator at 0x1b7bdfedfa0>"
      ]
     },
     "execution_count": 21,
     "metadata": {},
     "output_type": "execute_result"
    }
   ],
   "source": [
    "# Collect tweets\n",
    "tweets = tw.Cursor(api.search,\n",
    "              q=search_words,\n",
    "              lang=\"en\",\n",
    "              since=date_since).items(500)\n",
    "#.items(5) will return 5 of the most recent tweets.\n",
    "tweets"
   ]
  },
  {
   "cell_type": "code",
   "execution_count": 22,
   "metadata": {},
   "outputs": [
    {
     "name": "stderr",
     "output_type": "stream",
     "text": [
      "500it [00:41, 12.08it/s]\n"
     ]
    }
   ],
   "source": [
    "\n",
    "tweets_copy = []\n",
    "for tweet in tqdm(tweets):\n",
    "     tweets_copy.append(tweet)"
   ]
  },
  {
   "cell_type": "code",
   "execution_count": 23,
   "metadata": {},
   "outputs": [
    {
     "name": "stdout",
     "output_type": "stream",
     "text": [
      "new tweets retrieved: 500\n"
     ]
    }
   ],
   "source": [
    "print(f\"new tweets retrieved: {len(tweets_copy)}\")\n"
   ]
  },
  {
   "cell_type": "code",
   "execution_count": 27,
   "metadata": {},
   "outputs": [
    {
     "name": "stderr",
     "output_type": "stream",
     "text": [
      "100%|████████████████████████████████████████████████████████████████████████████████| 500/500 [07:17<00:00,  1.14it/s]\n"
     ]
    }
   ],
   "source": [
    "tweets_df = pd.DataFrame()\n",
    "for tweet in tqdm(tweets_copy):\n",
    "    hashtags = []\n",
    "    try:\n",
    "        for hashtag in tweet.entities[\"hashtags\"]:\n",
    "            hashtags.append(hashtag[\"text\"])\n",
    "        text = api.get_status(id=tweet.id, tweet_mode='extended').full_text\n",
    "    except:\n",
    "        pass\n",
    "    tweets_df = tweets_df.append(pd.DataFrame({'user_name': tweet.user.name, \n",
    "                                               'user_location': tweet.user.location,\\\n",
    "                                               'user_description': tweet.user.description,\n",
    "                                               'user_created': tweet.user.created_at,\n",
    "                                               'user_followers': tweet.user.followers_count,\n",
    "                                               'user_friends': tweet.user.friends_count,\n",
    "                                               'user_favourites': tweet.user.favourites_count,\n",
    "                                               'user_verified': tweet.user.verified,\n",
    "                                               'date': tweet.created_at,\n",
    "                                               'text': text, \n",
    "                                               'hashtags': [hashtags if hashtags else None],\n",
    "                                               'source': tweet.source,\n",
    "                                               'is_retweet': tweet.retweeted}, index=[0]))"
   ]
  },
  {
   "cell_type": "code",
   "execution_count": 28,
   "metadata": {},
   "outputs": [
    {
     "data": {
      "text/html": [
       "<div>\n",
       "<style scoped>\n",
       "    .dataframe tbody tr th:only-of-type {\n",
       "        vertical-align: middle;\n",
       "    }\n",
       "\n",
       "    .dataframe tbody tr th {\n",
       "        vertical-align: top;\n",
       "    }\n",
       "\n",
       "    .dataframe thead th {\n",
       "        text-align: right;\n",
       "    }\n",
       "</style>\n",
       "<table border=\"1\" class=\"dataframe\">\n",
       "  <thead>\n",
       "    <tr style=\"text-align: right;\">\n",
       "      <th></th>\n",
       "      <th>user_name</th>\n",
       "      <th>user_location</th>\n",
       "      <th>user_description</th>\n",
       "      <th>user_created</th>\n",
       "      <th>user_followers</th>\n",
       "      <th>user_friends</th>\n",
       "      <th>user_favourites</th>\n",
       "      <th>user_verified</th>\n",
       "      <th>date</th>\n",
       "      <th>text</th>\n",
       "      <th>hashtags</th>\n",
       "      <th>source</th>\n",
       "      <th>is_retweet</th>\n",
       "    </tr>\n",
       "  </thead>\n",
       "  <tbody>\n",
       "    <tr>\n",
       "      <th>0</th>\n",
       "      <td>Iain Philpott</td>\n",
       "      <td>London</td>\n",
       "      <td>Fashion &amp; Beauty Photographer/Director/DOP</td>\n",
       "      <td>2010-11-25 14:50:14</td>\n",
       "      <td>312</td>\n",
       "      <td>241</td>\n",
       "      <td>2311</td>\n",
       "      <td>False</td>\n",
       "      <td>2021-03-12 07:59:58</td>\n",
       "      <td>No mention on @BBCBreakfast @BBCNews that now ...</td>\n",
       "      <td>[AstraZeneca]</td>\n",
       "      <td>Twitter for iPhone</td>\n",
       "      <td>False</td>\n",
       "    </tr>\n",
       "    <tr>\n",
       "      <th>0</th>\n",
       "      <td>Africa Insights</td>\n",
       "      <td>Africa</td>\n",
       "      <td>Insights, analysis, thought-leadership on issu...</td>\n",
       "      <td>2012-05-22 09:42:46</td>\n",
       "      <td>4254</td>\n",
       "      <td>1787</td>\n",
       "      <td>1666</td>\n",
       "      <td>False</td>\n",
       "      <td>2021-03-12 07:52:35</td>\n",
       "      <td>RT @bjornhamland: Norway gives away 677,000 do...</td>\n",
       "      <td>None</td>\n",
       "      <td>Twitter for Android</td>\n",
       "      <td>False</td>\n",
       "    </tr>\n",
       "    <tr>\n",
       "      <th>0</th>\n",
       "      <td>Stu</td>\n",
       "      <td>Staffordshire, England</td>\n",
       "      <td>Covid-19 Negative (currently)</td>\n",
       "      <td>2019-06-14 09:20:34</td>\n",
       "      <td>1558</td>\n",
       "      <td>2419</td>\n",
       "      <td>11064</td>\n",
       "      <td>False</td>\n",
       "      <td>2021-03-12 07:45:36</td>\n",
       "      <td>“We don’t have any evidence that the vaccine i...</td>\n",
       "      <td>None</td>\n",
       "      <td>Twitter for iPhone</td>\n",
       "      <td>False</td>\n",
       "    </tr>\n",
       "    <tr>\n",
       "      <th>0</th>\n",
       "      <td>Natalie Trevaskis</td>\n",
       "      <td>Melbourne, Victoria</td>\n",
       "      <td>Pharmacist, Scientist, Mother, Runner</td>\n",
       "      <td>2017-11-01 10:41:47</td>\n",
       "      <td>542</td>\n",
       "      <td>431</td>\n",
       "      <td>3753</td>\n",
       "      <td>False</td>\n",
       "      <td>2021-03-12 06:56:07</td>\n",
       "      <td>🎉My husband got his Pfizer vaccine today (and ...</td>\n",
       "      <td>None</td>\n",
       "      <td>Twitter for iPhone</td>\n",
       "      <td>False</td>\n",
       "    </tr>\n",
       "    <tr>\n",
       "      <th>0</th>\n",
       "      <td>Easton Marks</td>\n",
       "      <td>NYC</td>\n",
       "      <td>It is of the Lord’s mercies...</td>\n",
       "      <td>2013-07-18 23:44:43</td>\n",
       "      <td>429</td>\n",
       "      <td>366</td>\n",
       "      <td>2407</td>\n",
       "      <td>False</td>\n",
       "      <td>2021-03-12 06:48:05</td>\n",
       "      <td>One in. One to go. Get yours #PfizerVaccine ht...</td>\n",
       "      <td>[PfizerVaccine]</td>\n",
       "      <td>Twitter for iPhone</td>\n",
       "      <td>False</td>\n",
       "    </tr>\n",
       "  </tbody>\n",
       "</table>\n",
       "</div>"
      ],
      "text/plain": [
       "           user_name           user_location  \\\n",
       "0      Iain Philpott                  London   \n",
       "0    Africa Insights                  Africa   \n",
       "0                Stu  Staffordshire, England   \n",
       "0  Natalie Trevaskis     Melbourne, Victoria   \n",
       "0       Easton Marks                     NYC   \n",
       "\n",
       "                                    user_description        user_created  \\\n",
       "0         Fashion & Beauty Photographer/Director/DOP 2010-11-25 14:50:14   \n",
       "0  Insights, analysis, thought-leadership on issu... 2012-05-22 09:42:46   \n",
       "0                      Covid-19 Negative (currently) 2019-06-14 09:20:34   \n",
       "0              Pharmacist, Scientist, Mother, Runner 2017-11-01 10:41:47   \n",
       "0                     It is of the Lord’s mercies... 2013-07-18 23:44:43   \n",
       "\n",
       "   user_followers  user_friends  user_favourites  user_verified  \\\n",
       "0             312           241             2311          False   \n",
       "0            4254          1787             1666          False   \n",
       "0            1558          2419            11064          False   \n",
       "0             542           431             3753          False   \n",
       "0             429           366             2407          False   \n",
       "\n",
       "                 date                                               text  \\\n",
       "0 2021-03-12 07:59:58  No mention on @BBCBreakfast @BBCNews that now ...   \n",
       "0 2021-03-12 07:52:35  RT @bjornhamland: Norway gives away 677,000 do...   \n",
       "0 2021-03-12 07:45:36  “We don’t have any evidence that the vaccine i...   \n",
       "0 2021-03-12 06:56:07  🎉My husband got his Pfizer vaccine today (and ...   \n",
       "0 2021-03-12 06:48:05  One in. One to go. Get yours #PfizerVaccine ht...   \n",
       "\n",
       "          hashtags               source  is_retweet  \n",
       "0    [AstraZeneca]   Twitter for iPhone       False  \n",
       "0             None  Twitter for Android       False  \n",
       "0             None   Twitter for iPhone       False  \n",
       "0             None   Twitter for iPhone       False  \n",
       "0  [PfizerVaccine]   Twitter for iPhone       False  "
      ]
     },
     "execution_count": 28,
     "metadata": {},
     "output_type": "execute_result"
    }
   ],
   "source": [
    "tweets_df.head()\n"
   ]
  },
  {
   "cell_type": "code",
   "execution_count": 37,
   "metadata": {},
   "outputs": [],
   "source": [
    "\n",
    "# read the old CSV file of collected tweets\n",
    "tweets_old_df = pd.read_csv(\"tweets.csv\")\n"
   ]
  },
  {
   "cell_type": "code",
   "execution_count": 38,
   "metadata": {},
   "outputs": [],
   "source": [
    "#Append the new file to the old file\n",
    "tweets_all_df = pd.concat([tweets_old_df, tweets_df], axis=0)\n"
   ]
  },
  {
   "cell_type": "code",
   "execution_count": 40,
   "metadata": {},
   "outputs": [],
   "source": [
    "#Drop duplicates if any\n",
    "tweets_all_df.drop_duplicates(subset = [\"user_name\", \"date\", \"text\"], inplace=True)\n"
   ]
  },
  {
   "cell_type": "code",
   "execution_count": 41,
   "metadata": {},
   "outputs": [],
   "source": [
    "#export data to CSV\n",
    "tweets_all_df.to_csv(\"tweets.csv\", index=False)"
   ]
  },
  {
   "cell_type": "code",
   "execution_count": null,
   "metadata": {},
   "outputs": [],
   "source": []
  }
 ],
 "metadata": {
  "kernelspec": {
   "display_name": "Python 3",
   "language": "python",
   "name": "python3"
  },
  "language_info": {
   "codemirror_mode": {
    "name": "ipython",
    "version": 3
   },
   "file_extension": ".py",
   "mimetype": "text/x-python",
   "name": "python",
   "nbconvert_exporter": "python",
   "pygments_lexer": "ipython3",
   "version": "3.8.5"
  }
 },
 "nbformat": 4,
 "nbformat_minor": 4
}
